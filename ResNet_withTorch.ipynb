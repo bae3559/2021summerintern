{
  "nbformat": 4,
  "nbformat_minor": 0,
  "metadata": {
    "colab": {
      "name": "ResNet_withTorch",
      "provenance": [],
      "collapsed_sections": [],
      "authorship_tag": "ABX9TyMqy/TURIN11muHDcI0LvPI",
      "include_colab_link": true
    },
    "kernelspec": {
      "name": "python3",
      "display_name": "Python 3"
    },
    "language_info": {
      "name": "python"
    }
  },
  "cells": [
    {
      "cell_type": "markdown",
      "metadata": {
        "id": "view-in-github",
        "colab_type": "text"
      },
      "source": [
        "<a href=\"https://colab.research.google.com/github/bae3559/2021summerintern/blob/main/ResNet_withTorch.ipynb\" target=\"_parent\"><img src=\"https://colab.research.google.com/assets/colab-badge.svg\" alt=\"Open In Colab\"/></a>"
      ]
    },
    {
      "cell_type": "markdown",
      "metadata": {
        "id": "m6CxrBv1cArg"
      },
      "source": [
        "##ResNet \n",
        "\n",
        "```\n",
        "torchvision.models.resnet\n",
        "```\n",
        "\n",
        "- resnet(18,34,50,101,152)를 다 만들 수 있도록 되어있음.\n",
        "- 3x224x224 입력을 기준으로 만들도록 되어있음.\n",
        "- input size가 다른 경우 ResNet를 적용하려면 어떻게 할 수 있을지 생각해보기. \n"
      ]
    },
    {
      "cell_type": "code",
      "metadata": {
        "id": "nd23_Lgaa0ho"
      },
      "source": [
        "## ResNet  \n",
        "\n",
        "\n",
        "import torch.nn as nn\n",
        "import torch.utils.model_zoo as model_zoo\n",
        "\n",
        "\n",
        "__all__ = ['ResNet', 'resnet18', 'resnet34', 'resnet50', 'resnet101',\n",
        "           'resnet152']\n",
        "\n",
        "\n",
        "model_urls = {\n",
        "    'resnet18': 'https://download.pytorch.org/models/resnet18-5c106cde.pth',\n",
        "    'resnet34': 'https://download.pytorch.org/models/resnet34-333f7ec4.pth',\n",
        "    'resnet50': 'https://download.pytorch.org/models/resnet50-19c8e357.pth',\n",
        "    'resnet101': 'https://download.pytorch.org/models/resnet101-5d3b4d8f.pth',\n",
        "    'resnet152': 'https://download.pytorch.org/models/resnet152-b121ed2d.pth',\n",
        "}\n",
        "\n",
        "def conv3x3(in_planes, out_planes, stride=1):\n",
        "    \"\"\"3x3 convolution with padding\"\"\"\n",
        "    return nn.Conv2d(in_planes, out_planes, kernel_size=3, stride=stride,\n",
        "                     padding=1, bias=False)\n",
        "\n",
        "\n",
        "def conv1x1(in_planes, out_planes, stride=1):\n",
        "    \"\"\"1x1 convolution\"\"\"\n",
        "    return nn.Conv2d(in_planes, out_planes, kernel_size=1, stride=stride, bias=False)"
      ],
      "execution_count": 1,
      "outputs": []
    },
    {
      "cell_type": "code",
      "metadata": {
        "id": "_NeKMjs4c_Lc"
      },
      "source": [
        "class BasicBlock(nn.Module):\n",
        "   def __init__(self,inplanes, planes, stride=1, downsample=None):\n",
        "     super(BasicBlock, self).__init__()\n",
        "\n",
        "     self.conv1 = conv3x3(inplanes, planes, stride)  # stride 값을 받은 걸 씀 \n",
        "     self.bn1 = nn.BatchNorm2d(planes)\n",
        "     self.relu = nn.ReLU(inplace=True)\n",
        "     self.conv2 = conv3x3(planes,planes) # stride 무조건 1\n",
        "     self.bn2 = nn.BatchNorm2d(planes)\n",
        "     self.downsample = downsample\n",
        "     self.stride = stride\n",
        "\n",
        "    def forward(self, x):\n",
        "\n",
        "      # if x.shape = 3x64x64\n",
        "      identity = x   #identity.shape = 3x64x64\n",
        "      # if stride=2  \n",
        "      out = self.conv1(x) # padding :1 , out.shape = 3x32x32\n",
        "      out = self.bn1(out)  # out.shape = 3x32x32\n",
        "      out = self.relu(out)  # out.shape = 3x32x32\n",
        "\n",
        "      out = self.conv2(out) # out.shape = 3x32x32\n",
        "      out = self.bn2(out)  # out.shape = 3x32x32\n",
        "\n",
        "      # 이렇게 되면 지금 identity 랑 out의 shape이 달라서 더 하는게 불가능해진다. \n",
        "      # 그럴 때, downsample을 해주면 됨! \n",
        "\n",
        "      if downsample != None:\n",
        "        identity = self.downsample(x)\n",
        "\n",
        "      out += identity \n",
        "      out = self.relu(out)\n",
        "\n",
        "      return out"
      ],
      "execution_count": null,
      "outputs": []
    },
    {
      "cell_type": "code",
      "metadata": {
        "id": "2f5Yb0Vduds1"
      },
      "source": [
        "class Bottleneck(nn.Module):\n",
        "    expansion = 4\n",
        "\n",
        "    def __init__(self, inplanes, planes, stride=1, downsample=None):\n",
        "      super(Bottleneck, self).__init__()\n",
        "      \n",
        "      self.conv1 = conv1x1(inplanes, planes)\n",
        "      self.bn1 = nn.BatchNorm2d(planes)\n",
        "      self.conv2 = conv3x3(planes, planes,stride)\n",
        "      self.bn2 = nn.BatchNorm2d(planes)\n",
        "      self.conv3 = conv1x1(planes, planes * self.expansion)\n",
        "      self.bn3 = nn.BatchNorm2d(planes * self.expansion)\n",
        "\n",
        "      self.downsample = downsample\n",
        "      self.relu = nn.ReLU(inplace=True)\n",
        "      self.stride = stride\n",
        "\n",
        "    def forward(self, x):\n",
        "\n",
        "      identity = x\n",
        "\n",
        "      out = self.conv1(x)\n",
        "      out = self.bn1(out)\n",
        "      out = self.relu(out)\n",
        "\n",
        "      out = self.conv2(out)\n",
        "      out = self.bn2(out)\n",
        "      out = self.relu(out)\n",
        "\n",
        "      out = self.conv3(out)\n",
        "      out = self.bn3(out)\n",
        "      \n",
        "      if downsample != None:\n",
        "        identity = self.downsample(x)\n",
        "\n",
        "      out += identity \n",
        "      out = self.relu(out)\n",
        "\n",
        "      return out"
      ],
      "execution_count": 2,
      "outputs": []
    },
    {
      "cell_type": "code",
      "metadata": {
        "id": "WE5iMnJ5ysH3"
      },
      "source": [
        "def resenet18(pretrained=False, **kwargs):\n",
        "\n",
        "  \"\"\"\n",
        "    Args:\n",
        "        pretrained(bool): If True, returns a model pre-trained on ImageNet\n",
        "  \"\"\"\n",
        "  model = ResNet(BasicBlock, [2, 2, 2, 2], **kwargs)\n",
        "  if pretrained:\n",
        "    model.load_state_dict(model_zoo.load_url(model_urls['resnet18']))\n",
        "  return model\n",
        "\n",
        "def resnet50(pretrained=False, **kwargs):\n",
        "  model = ResNet(Bottleneck,[3, 4, 6, 3], **kwargs)\n",
        "  if pretrained:\n",
        "    model.load_state_dict(model_zoo.load_url(model_urls['resnet50']))\n",
        "  return model"
      ],
      "execution_count": 3,
      "outputs": []
    },
    {
      "cell_type": "code",
      "metadata": {
        "id": "5d4P4omAzeBY"
      },
      "source": [
        "class ResNet(nn.Module):\n",
        "  #model = ResNet(Bottleneck,[3, 4, 6, 3], **kwargs) resnet50\n",
        "  def __init__(self, block, layers, num_classes=1000, zero_init_residual=False):\n",
        "    super(ResNet, self).__init__()\n",
        "    self.inplanes = 64\n",
        "    \n",
        "    #inputs = 3x224x224\n",
        "    self.conv1 = nn.Conv2d(3, 64, kernel_size=7, stride=2, padding=3, bias=False) \n",
        "    # outputs = self.conv1(inputs)라면, outputs.shape = [64x112x112]\n",
        "    self.bn1 = nn.BatchNorm2d(64)\n",
        "    self.relu = nn.ReLU(inplace=True)\n",
        "    self.maxpool = nn.MaxPool2d(kernel_size=3, stride=2, padding=1)\n",
        "    #  64x56x56 \n",
        " \n",
        "    self.layer1 = self._make_layer(block, 64, layers[0]'''3''')\n",
        "    self.layer2 = self._make_layer(block, 128, layers[1]'''4''', stride=2)\n",
        "    self.layer3 = self._make_layer(block, 256, layers[2]'''6''', stride=2)\n",
        "    self.layer4 = self._make_layer(block, 512, layers[3]'''3''', stride=2)\n",
        "    \n",
        "    self.avgpool = nn.AdaptiveAvgPool2d((1,1))\n",
        "    self.fc = nn.Linear(512 * block.expansion, num_classes)\n",
        "\n",
        "    for m in self.modules():\n",
        "      if isinstance(m, nn.Conv2d):\n",
        "        nn.init.kaiming_normal_(m.weight, mode='fan_out', nonlinearity='relu')\n",
        "      elif isinstance(m, nn.BatchNorm2d):\n",
        "        nn.init.constant_(m.weight,1)\n",
        "        nn.init.constant_(m.bias,1)\n",
        "\n",
        "    if zero_init_residual:\n",
        "      for m in self.modules():  \n",
        "        if isinstance(m, Bottleneck):\n",
        "          nn.init.constant_(m.bn2.weight,0)\n",
        "        elif isinstance(m, BasicBlock):\n",
        "          nn.init.constant_(m.bn2.weight,0)\n",
        "\n",
        "  def _make_layer(self, block, planes, blocks, stride=1):\n",
        "    downsample = None\n",
        "    if stride != 1 or self.inplanes != planes * block.exmpansion:\n",
        "      downsample = nn.Sequential(\n",
        "          conv1x1(self.inplanes, planes*block.expansion, stride), \n",
        "          nn.BatchNorm2d(planes*block.expansion) )\n",
        "      layers=[]\n"
      ],
      "execution_count": null,
      "outputs": []
    },
    {
      "cell_type": "code",
      "metadata": {
        "colab": {
          "base_uri": "https://localhost:8080/"
        },
        "id": "NbFhwwz9-gfD",
        "outputId": "3789ddff-5872-4bf4-d676-7d6fd7c3ddb8"
      },
      "source": [
        ""
      ],
      "execution_count": 5,
      "outputs": [
        {
          "output_type": "stream",
          "text": [
            "0\n"
          ],
          "name": "stdout"
        }
      ]
    }
  ]
}