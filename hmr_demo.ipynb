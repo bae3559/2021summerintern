{
  "nbformat": 4,
  "nbformat_minor": 0,
  "metadata": {
    "colab": {
      "name": "hmr_demo.ipynb",
      "provenance": [],
      "authorship_tag": "ABX9TyOGJJiTtpoZulIrCVX6IPGR",
      "include_colab_link": true
    },
    "kernelspec": {
      "name": "python3",
      "display_name": "Python 3"
    },
    "language_info": {
      "name": "python"
    },
    "accelerator": "GPU"
  },
  "cells": [
    {
      "cell_type": "markdown",
      "metadata": {
        "id": "view-in-github",
        "colab_type": "text"
      },
      "source": [
        "<a href=\"https://colab.research.google.com/github/bae3559/2021summerintern/blob/main/hmr_demo.ipynb\" target=\"_parent\"><img src=\"https://colab.research.google.com/assets/colab-badge.svg\" alt=\"Open In Colab\"/></a>"
      ]
    },
    {
      "cell_type": "markdown",
      "metadata": {
        "id": "d2LQm61DYni2"
      },
      "source": [
        "#install Pyrender"
      ]
    },
    {
      "cell_type": "code",
      "metadata": {
        "colab": {
          "base_uri": "https://localhost:8080/"
        },
        "id": "9eKWzZaxYWqc",
        "outputId": "adf1f68b-66c3-4c84-bf73-2919a1e6dc2a"
      },
      "source": [
        "import os\n",
        "os.environ[\"PYOPENGL_PLATFORM\"] = \"egl\" #opengl seems to only work with TPU\n",
        "!PYOPENGL_PLATFORM=egl python -c \"from OpenGL import EGL\"\n",
        "print(os.environ['PYOPENGL_PLATFORM'])"
      ],
      "execution_count": 1,
      "outputs": [
        {
          "output_type": "stream",
          "text": [
            "egl\n"
          ],
          "name": "stdout"
        }
      ]
    },
    {
      "cell_type": "code",
      "metadata": {
        "colab": {
          "base_uri": "https://localhost:8080/"
        },
        "id": "3kg928sJYsFH",
        "outputId": "9409e8b4-91c4-4301-98ed-68df9ccf94f0"
      },
      "source": [
        "# clone pyrender repo\n",
        "%cd /content/\n",
        "import os\n",
        "from os.path import exists, join, basename\n",
        "\n",
        "project_name = \"pyrender\"\n",
        "if not exists(project_name):\n",
        "  # clone and install\n",
        "  !git clone -q https://github.com/mmatl/pyrender.git\n",
        "  #requirements file gives the wrong pyglet\n",
        "  #ERROR: pyrender 0.1.23 has requirement pyglet==1.4.0b1, but you'll have pyglet 1.4.0a1 which is incompatible.\n",
        "  !cd $project_name && pip install -q -r requirements.txt\n",
        "  \n",
        "import sys\n",
        "sys.path.append(project_name)"
      ],
      "execution_count": 6,
      "outputs": [
        {
          "output_type": "stream",
          "text": [
            "/content\n"
          ],
          "name": "stdout"
        }
      ]
    },
    {
      "cell_type": "code",
      "metadata": {
        "colab": {
          "base_uri": "https://localhost:8080/"
        },
        "id": "Ng0SdtJMYr8_",
        "outputId": "394779a5-5fe6-4d68-a53f-842314572d99"
      },
      "source": [
        "%cd /content/\n",
        "\n",
        "!git clone https://github.com/mmatl/pyopengl.git\n",
        "!pip install ./pyopengl"
      ],
      "execution_count": 7,
      "outputs": [
        {
          "output_type": "stream",
          "text": [
            "/content\n",
            "Cloning into 'pyopengl'...\n",
            "remote: Enumerating objects: 26044, done.\u001b[K\n",
            "remote: Total 26044 (delta 0), reused 0 (delta 0), pack-reused 26044\u001b[K\n",
            "Receiving objects: 100% (26044/26044), 23.93 MiB | 22.67 MiB/s, done.\n",
            "Resolving deltas: 100% (21690/21690), done.\n",
            "Processing ./pyopengl\n",
            "Building wheels for collected packages: PyOpenGL\n",
            "  Building wheel for PyOpenGL (setup.py) ... \u001b[?25l\u001b[?25hdone\n",
            "  Created wheel for PyOpenGL: filename=PyOpenGL-3.1.0-cp37-none-any.whl size=2349654 sha256=2fbc2742e6fd2952bde6dfcf7283bdcccb134fdc968cda8478b2f341f854b83c\n",
            "  Stored in directory: /tmp/pip-ephem-wheel-cache-g7iaifyp/wheels/89/5f/69/d65a30306708045f091e76d7e2dd024890b9bcd662988921d3\n",
            "Successfully built PyOpenGL\n",
            "Installing collected packages: PyOpenGL\n",
            "  Found existing installation: PyOpenGL 3.1.5\n",
            "    Uninstalling PyOpenGL-3.1.5:\n",
            "      Successfully uninstalled PyOpenGL-3.1.5\n",
            "Successfully installed PyOpenGL-3.1.0\n"
          ],
          "name": "stdout"
        }
      ]
    },
    {
      "cell_type": "code",
      "metadata": {
        "colab": {
          "base_uri": "https://localhost:8080/"
        },
        "id": "22bJss5jZBJc",
        "outputId": "1fbe7fc2-ba89-4947-9e16-623179d02b2d"
      },
      "source": [
        "import OpenGL.GL as gl\n",
        "print(gl.glGetString(gl.GL_VERSION))\n",
        "print(gl.glGetString(gl.GL_VENDOR))"
      ],
      "execution_count": 8,
      "outputs": [
        {
          "output_type": "stream",
          "text": [
            "None\n",
            "None\n"
          ],
          "name": "stdout"
        }
      ]
    },
    {
      "cell_type": "markdown",
      "metadata": {
        "id": "BUOgaCGZZXWn"
      },
      "source": [
        "## HMR git repo install"
      ]
    },
    {
      "cell_type": "code",
      "metadata": {
        "colab": {
          "base_uri": "https://localhost:8080/"
        },
        "id": "v30p37imZTgP",
        "outputId": "c6ca4730-c1f5-4068-e0ff-545a0af81b3c"
      },
      "source": [
        "!git clone https://github.com/akanazawa/hmr"
      ],
      "execution_count": 9,
      "outputs": [
        {
          "output_type": "stream",
          "text": [
            "Cloning into 'hmr'...\n",
            "remote: Enumerating objects: 254, done.\u001b[K\n",
            "remote: Total 254 (delta 0), reused 0 (delta 0), pack-reused 254\u001b[K\n",
            "Receiving objects: 100% (254/254), 3.88 MiB | 37.47 MiB/s, done.\n",
            "Resolving deltas: 100% (110/110), done.\n"
          ],
          "name": "stdout"
        }
      ]
    },
    {
      "cell_type": "markdown",
      "metadata": {
        "id": "_6nr4aCCarkn"
      },
      "source": [
        "## install requirements\n"
      ]
    },
    {
      "cell_type": "code",
      "metadata": {
        "colab": {
          "base_uri": "https://localhost:8080/"
        },
        "id": "9Ra9Ih47ZdpI",
        "outputId": "f59473d9-e73c-4295-cacf-7173bd7f99ec"
      },
      "source": [
        "!pip uninstall tensorflow\n",
        "!pip2 uninstall tensorflowy"
      ],
      "execution_count": 16,
      "outputs": [
        {
          "output_type": "stream",
          "text": [
            "\u001b[33mWARNING: Skipping tensorflow as it is not installed.\u001b[0m\n",
            "Uninstalling tensorflow-2.1.0:\n",
            "  Would remove:\n",
            "    /usr/local/lib/python2.7/dist-packages/tensorflow-2.1.0.dist-info/*\n",
            "    /usr/local/lib/python2.7/dist-packages/tensorflow/*\n",
            "    /usr/local/lib/python2.7/dist-packages/tensorflow_core/*\n",
            "Proceed (y/n)? y\n",
            "  Successfully uninstalled tensorflow-2.1.0\n"
          ],
          "name": "stdout"
        }
      ]
    },
    {
      "cell_type": "code",
      "metadata": {
        "colab": {
          "base_uri": "https://localhost:8080/"
        },
        "id": "8p9btdvFZ5vd",
        "outputId": "d0fefe44-0176-45f9-b635-cb327eb19c56"
      },
      "source": [
        "!pip2 install opendr==0.77"
      ],
      "execution_count": 17,
      "outputs": [
        {
          "output_type": "stream",
          "text": [
            "Collecting opendr==0.77\n",
            "  Using cached https://files.pythonhosted.org/packages/ed/d5/d833f874c8fd12c5d5289e3091b3391fa36f5fe9cb8e086263d46dd44b60/opendr-0.77.tar.gz\n",
            "Requirement already satisfied: Cython in /usr/local/lib/python2.7/dist-packages (from opendr==0.77) (0.29.12)\n",
            "Collecting chumpy>=0.58\n",
            "\u001b[?25l  Downloading https://files.pythonhosted.org/packages/01/f7/865755c8bdb837841938de622e6c8b5cb6b1c933bde3bd3332f0cd4574f1/chumpy-0.70.tar.gz (50kB)\n",
            "\u001b[K     |████████████████████████████████| 51kB 6.5MB/s \n",
            "\u001b[?25hRequirement already satisfied: matplotlib in /usr/local/lib/python2.7/dist-packages (from opendr==0.77) (2.2.4)\n",
            "Requirement already satisfied: numpy>=1.8.1 in /usr/local/lib/python2.7/dist-packages (from chumpy>=0.58->opendr==0.77) (1.16.4)\n",
            "Requirement already satisfied: scipy>=0.13.0 in /usr/local/lib/python2.7/dist-packages (from chumpy>=0.58->opendr==0.77) (1.2.2)\n",
            "Requirement already satisfied: six>=1.11.0 in /usr/local/lib/python2.7/dist-packages (from chumpy>=0.58->opendr==0.77) (1.15.0)\n",
            "Requirement already satisfied: cycler>=0.10 in /usr/local/lib/python2.7/dist-packages (from matplotlib->opendr==0.77) (0.10.0)\n",
            "Requirement already satisfied: backports.functools-lru-cache in /usr/local/lib/python2.7/dist-packages (from matplotlib->opendr==0.77) (1.5)\n",
            "Requirement already satisfied: subprocess32 in /usr/local/lib/python2.7/dist-packages (from matplotlib->opendr==0.77) (3.5.4)\n",
            "Requirement already satisfied: kiwisolver>=1.0.1 in /usr/local/lib/python2.7/dist-packages (from matplotlib->opendr==0.77) (1.1.0)\n",
            "Requirement already satisfied: pytz in /usr/local/lib/python2.7/dist-packages (from matplotlib->opendr==0.77) (2018.9)\n",
            "Requirement already satisfied: python-dateutil>=2.1 in /usr/local/lib/python2.7/dist-packages (from matplotlib->opendr==0.77) (2.5.3)\n",
            "Requirement already satisfied: pyparsing!=2.0.4,!=2.1.2,!=2.1.6,>=2.0.1 in /usr/local/lib/python2.7/dist-packages (from matplotlib->opendr==0.77) (2.4.0)\n",
            "Requirement already satisfied: setuptools in /usr/local/lib/python2.7/dist-packages (from kiwisolver>=1.0.1->matplotlib->opendr==0.77) (44.1.1)\n",
            "Building wheels for collected packages: opendr, chumpy\n",
            "  Building wheel for opendr (setup.py) ... \u001b[?25l\u001b[?25hdone\n",
            "  Created wheel for opendr: filename=opendr-0.77-cp27-cp27mu-linux_x86_64.whl size=6629163 sha256=b8ece2e0221466c74f5d2ee9ab5257dee852081fe7e4a8aec163a50f254e108f\n",
            "  Stored in directory: /root/.cache/pip/wheels/5c/cd/7c/8f4035d040aacef26bccc11cebfe69cc44871e020b1f5e598b\n",
            "  Building wheel for chumpy (setup.py) ... \u001b[?25l\u001b[?25hdone\n",
            "  Created wheel for chumpy: filename=chumpy-0.70-cp27-none-any.whl size=58293 sha256=4fc35b8edd8c46d2bc984483acbb7da2e8178eed023e665f0fb17b676c18426b\n",
            "  Stored in directory: /root/.cache/pip/wheels/0a/73/91/b8dbef9746a907c8c008fc194a9691224ca3371b55f16f1dbd\n",
            "Successfully built opendr chumpy\n",
            "Installing collected packages: chumpy, opendr\n",
            "Successfully installed chumpy-0.70 opendr-0.77\n"
          ],
          "name": "stdout"
        }
      ]
    },
    {
      "cell_type": "code",
      "metadata": {
        "colab": {
          "base_uri": "https://localhost:8080/"
        },
        "id": "tMmIS2VoaG_k",
        "outputId": "3c1d847c-cc18-48a3-96e0-10d2c97f22d9"
      },
      "source": [
        "!pip2 install tensorflow==1.3.0 "
      ],
      "execution_count": 18,
      "outputs": [
        {
          "output_type": "stream",
          "text": [
            "Collecting tensorflow==1.3.0\n",
            "\u001b[?25l  Downloading https://files.pythonhosted.org/packages/fe/dd/8764ae59e8ff74421d615ddb9c86a1b404c27708dfde3caa8f17c183788d/tensorflow-1.3.0-cp27-cp27mu-manylinux1_x86_64.whl (43.1MB)\n",
            "\u001b[K     |████████████████████████████████| 43.1MB 70kB/s \n",
            "\u001b[?25hRequirement already satisfied: numpy>=1.11.0 in /usr/local/lib/python2.7/dist-packages (from tensorflow==1.3.0) (1.16.4)\n",
            "Requirement already satisfied: mock>=2.0.0 in /usr/local/lib/python2.7/dist-packages (from tensorflow==1.3.0) (2.0.0)\n",
            "Requirement already satisfied: protobuf>=3.3.0 in /usr/local/lib/python2.7/dist-packages (from tensorflow==1.3.0) (3.8.0)\n",
            "Requirement already satisfied: wheel in /usr/local/lib/python2.7/dist-packages (from tensorflow==1.3.0) (0.36.2)\n",
            "Requirement already satisfied: backports.weakref>=1.0rc1 in /usr/local/lib/python2.7/dist-packages (from tensorflow==1.3.0) (1.0.post1)\n",
            "Requirement already satisfied: six>=1.10.0 in /usr/local/lib/python2.7/dist-packages (from tensorflow==1.3.0) (1.15.0)\n",
            "Collecting tensorflow-tensorboard<0.2.0,>=0.1.0\n",
            "\u001b[?25l  Downloading https://files.pythonhosted.org/packages/fb/34/14c23665a725c73932891e09b8f017a53aad545c9d5019d2817102dc5d9b/tensorflow_tensorboard-0.1.8-py2-none-any.whl (1.6MB)\n",
            "\u001b[K     |████████████████████████████████| 1.6MB 47.3MB/s \n",
            "\u001b[?25hRequirement already satisfied: funcsigs>=1; python_version < \"3.3\" in /usr/local/lib/python2.7/dist-packages (from mock>=2.0.0->tensorflow==1.3.0) (1.0.2)\n",
            "Requirement already satisfied: pbr>=0.11 in /usr/local/lib/python2.7/dist-packages (from mock>=2.0.0->tensorflow==1.3.0) (5.4.0)\n",
            "Requirement already satisfied: setuptools in /usr/local/lib/python2.7/dist-packages (from protobuf>=3.3.0->tensorflow==1.3.0) (44.1.1)\n",
            "Collecting bleach==1.5.0\n",
            "  Downloading https://files.pythonhosted.org/packages/33/70/86c5fec937ea4964184d4d6c4f0b9551564f821e1c3575907639036d9b90/bleach-1.5.0-py2.py3-none-any.whl\n",
            "Collecting html5lib==0.9999999\n",
            "\u001b[?25l  Downloading https://files.pythonhosted.org/packages/ae/ae/bcb60402c60932b32dfaf19bb53870b29eda2cd17551ba5639219fb5ebf9/html5lib-0.9999999.tar.gz (889kB)\n",
            "\u001b[K     |████████████████████████████████| 890kB 37.1MB/s \n",
            "\u001b[?25hRequirement already satisfied: werkzeug>=0.11.10 in /usr/local/lib/python2.7/dist-packages (from tensorflow-tensorboard<0.2.0,>=0.1.0->tensorflow==1.3.0) (0.15.5)\n",
            "Requirement already satisfied: markdown>=2.6.8 in /usr/local/lib/python2.7/dist-packages (from tensorflow-tensorboard<0.2.0,>=0.1.0->tensorflow==1.3.0) (3.1.1)\n",
            "Building wheels for collected packages: html5lib\n",
            "  Building wheel for html5lib (setup.py) ... \u001b[?25l\u001b[?25hdone\n",
            "  Created wheel for html5lib: filename=html5lib-0.9999999-cp27-none-any.whl size=107221 sha256=ab354992bae29af5f4580dff4e64c84ea89b0789274b8bbecca248a3679f9e20\n",
            "  Stored in directory: /root/.cache/pip/wheels/50/ae/f9/d2b189788efcf61d1ee0e36045476735c838898eef1cad6e29\n",
            "Successfully built html5lib\n",
            "\u001b[31mERROR: fastai 0.7.0 has requirement torch<0.4, but you'll have torch 1.4.0 which is incompatible.\u001b[0m\n",
            "Installing collected packages: html5lib, bleach, tensorflow-tensorboard, tensorflow\n",
            "  Found existing installation: html5lib 1.0.1\n",
            "    Uninstalling html5lib-1.0.1:\n",
            "      Successfully uninstalled html5lib-1.0.1\n",
            "  Found existing installation: bleach 3.1.0\n",
            "    Uninstalling bleach-3.1.0:\n",
            "      Successfully uninstalled bleach-3.1.0\n",
            "Successfully installed bleach-1.5.0 html5lib-0.9999999 tensorflow-1.3.0 tensorflow-tensorboard-0.1.8\n"
          ],
          "name": "stdout"
        }
      ]
    },
    {
      "cell_type": "code",
      "metadata": {
        "colab": {
          "base_uri": "https://localhost:8080/"
        },
        "id": "yrkJqcWMaptO",
        "outputId": "50f0870c-3422-417d-f62f-29c2956872b9"
      },
      "source": [
        "!pip2 install -r /content/hmr/requirements.txt"
      ],
      "execution_count": 19,
      "outputs": [
        {
          "output_type": "stream",
          "text": [
            "Requirement already satisfied: pip>=9.0 in /usr/local/lib/python2.7/dist-packages (from -r /content/hmr/requirements.txt (line 2)) (19.3.1)\n",
            "Requirement already satisfied: scipy in /usr/local/lib/python2.7/dist-packages (from -r /content/hmr/requirements.txt (line 3)) (1.2.2)\n",
            "Requirement already satisfied: numpy in /usr/local/lib/python2.7/dist-packages (from -r /content/hmr/requirements.txt (line 4)) (1.16.4)\n",
            "Requirement already satisfied: opendr==0.77 in /usr/local/lib/python2.7/dist-packages (from -r /content/hmr/requirements.txt (line 5)) (0.77)\n",
            "Requirement already satisfied: matplotlib in /usr/local/lib/python2.7/dist-packages (from -r /content/hmr/requirements.txt (line 6)) (2.2.4)\n",
            "Requirement already satisfied: scikit-image in /usr/local/lib/python2.7/dist-packages (from -r /content/hmr/requirements.txt (line 7)) (0.14.3)\n",
            "Collecting deepdish>=0.3\n",
            "  Downloading https://files.pythonhosted.org/packages/6e/39/2a47c852651982bc5eb39212ac110284dd20126bdc7b49bde401a0139f5d/deepdish-0.3.6-py2.py3-none-any.whl\n",
            "Requirement already satisfied: opencv-python in /usr/local/lib/python2.7/dist-packages (from -r /content/hmr/requirements.txt (line 9)) (3.4.5.20)\n",
            "Requirement already satisfied: absl-py in /usr/local/lib/python2.7/dist-packages (from -r /content/hmr/requirements.txt (line 10)) (0.7.1)\n",
            "Collecting ipdb\n",
            "  Downloading https://files.pythonhosted.org/packages/fc/56/9f67dcd4a4b9960373173a31be1b8c47fe351a1c9385677a7bdd82810e57/ipdb-0.13.9.tar.gz\n",
            "Requirement already satisfied: Cython in /usr/local/lib/python2.7/dist-packages (from opendr==0.77->-r /content/hmr/requirements.txt (line 5)) (0.29.12)\n",
            "Requirement already satisfied: chumpy>=0.58 in /usr/local/lib/python2.7/dist-packages (from opendr==0.77->-r /content/hmr/requirements.txt (line 5)) (0.70)\n",
            "Requirement already satisfied: cycler>=0.10 in /usr/local/lib/python2.7/dist-packages (from matplotlib->-r /content/hmr/requirements.txt (line 6)) (0.10.0)\n",
            "Requirement already satisfied: backports.functools-lru-cache in /usr/local/lib/python2.7/dist-packages (from matplotlib->-r /content/hmr/requirements.txt (line 6)) (1.5)\n",
            "Requirement already satisfied: subprocess32 in /usr/local/lib/python2.7/dist-packages (from matplotlib->-r /content/hmr/requirements.txt (line 6)) (3.5.4)\n",
            "Requirement already satisfied: kiwisolver>=1.0.1 in /usr/local/lib/python2.7/dist-packages (from matplotlib->-r /content/hmr/requirements.txt (line 6)) (1.1.0)\n",
            "Requirement already satisfied: pytz in /usr/local/lib/python2.7/dist-packages (from matplotlib->-r /content/hmr/requirements.txt (line 6)) (2018.9)\n",
            "Requirement already satisfied: six>=1.10 in /usr/local/lib/python2.7/dist-packages (from matplotlib->-r /content/hmr/requirements.txt (line 6)) (1.15.0)\n",
            "Requirement already satisfied: python-dateutil>=2.1 in /usr/local/lib/python2.7/dist-packages (from matplotlib->-r /content/hmr/requirements.txt (line 6)) (2.5.3)\n",
            "Requirement already satisfied: pyparsing!=2.0.4,!=2.1.2,!=2.1.6,>=2.0.1 in /usr/local/lib/python2.7/dist-packages (from matplotlib->-r /content/hmr/requirements.txt (line 6)) (2.4.0)\n",
            "Requirement already satisfied: PyWavelets>=0.4.0 in /usr/local/lib/python2.7/dist-packages (from scikit-image->-r /content/hmr/requirements.txt (line 7)) (1.0.3)\n",
            "Requirement already satisfied: networkx>=1.8 in /usr/local/lib/python2.7/dist-packages (from scikit-image->-r /content/hmr/requirements.txt (line 7)) (2.2)\n",
            "Requirement already satisfied: cloudpickle>=0.2.1 in /usr/local/lib/python2.7/dist-packages (from scikit-image->-r /content/hmr/requirements.txt (line 7)) (1.3.0)\n",
            "Requirement already satisfied: pillow>=4.3.0 in /usr/local/lib/python2.7/dist-packages (from scikit-image->-r /content/hmr/requirements.txt (line 7)) (4.3.0)\n",
            "Requirement already satisfied: tables in /usr/local/lib/python2.7/dist-packages (from deepdish>=0.3->-r /content/hmr/requirements.txt (line 8)) (3.4.4)\n",
            "Requirement already satisfied: enum34; python_version < \"3.4\" in /usr/local/lib/python2.7/dist-packages (from absl-py->-r /content/hmr/requirements.txt (line 10)) (1.1.6)\n",
            "Requirement already satisfied: setuptools in /usr/local/lib/python2.7/dist-packages (from ipdb->-r /content/hmr/requirements.txt (line 11)) (44.1.1)\n",
            "Requirement already satisfied: ipython<6.0.0,>=5.1.0 in /usr/local/lib/python2.7/dist-packages (from ipdb->-r /content/hmr/requirements.txt (line 11)) (5.5.0)\n",
            "Collecting toml>=0.10.2\n",
            "  Downloading https://files.pythonhosted.org/packages/44/6f/7120676b6d73228c96e17f1f794d8ab046fc910d781c8d151120c3f1569e/toml-0.10.2-py2.py3-none-any.whl\n",
            "Requirement already satisfied: decorator<5.0.0 in /usr/local/lib/python2.7/dist-packages (from ipdb->-r /content/hmr/requirements.txt (line 11)) (4.4.0)\n",
            "Requirement already satisfied: olefile in /usr/local/lib/python2.7/dist-packages (from pillow>=4.3.0->scikit-image->-r /content/hmr/requirements.txt (line 7)) (0.46)\n",
            "Requirement already satisfied: numexpr>=2.5.2 in /usr/local/lib/python2.7/dist-packages (from tables->deepdish>=0.3->-r /content/hmr/requirements.txt (line 8)) (2.6.9)\n",
            "Requirement already satisfied: simplegeneric>0.8 in /usr/local/lib/python2.7/dist-packages (from ipython<6.0.0,>=5.1.0->ipdb->-r /content/hmr/requirements.txt (line 11)) (0.8.1)\n",
            "Requirement already satisfied: pickleshare in /usr/local/lib/python2.7/dist-packages (from ipython<6.0.0,>=5.1.0->ipdb->-r /content/hmr/requirements.txt (line 11)) (0.7.5)\n",
            "Requirement already satisfied: backports.shutil-get-terminal-size; python_version == \"2.7\" in /usr/local/lib/python2.7/dist-packages (from ipython<6.0.0,>=5.1.0->ipdb->-r /content/hmr/requirements.txt (line 11)) (1.0.0)\n",
            "Requirement already satisfied: pathlib2; python_version == \"2.7\" or python_version == \"3.3\" in /usr/local/lib/python2.7/dist-packages (from ipython<6.0.0,>=5.1.0->ipdb->-r /content/hmr/requirements.txt (line 11)) (2.3.4)\n",
            "Requirement already satisfied: pexpect; sys_platform != \"win32\" in /usr/local/lib/python2.7/dist-packages (from ipython<6.0.0,>=5.1.0->ipdb->-r /content/hmr/requirements.txt (line 11)) (4.7.0)\n",
            "Requirement already satisfied: traitlets>=4.2 in /usr/local/lib/python2.7/dist-packages (from ipython<6.0.0,>=5.1.0->ipdb->-r /content/hmr/requirements.txt (line 11)) (4.3.2)\n",
            "Requirement already satisfied: pygments in /usr/local/lib/python2.7/dist-packages (from ipython<6.0.0,>=5.1.0->ipdb->-r /content/hmr/requirements.txt (line 11)) (2.1.3)\n",
            "Requirement already satisfied: prompt-toolkit<2.0.0,>=1.0.4 in /usr/local/lib/python2.7/dist-packages (from ipython<6.0.0,>=5.1.0->ipdb->-r /content/hmr/requirements.txt (line 11)) (1.0.16)\n",
            "Requirement already satisfied: scandir; python_version < \"3.5\" in /usr/local/lib/python2.7/dist-packages (from pathlib2; python_version == \"2.7\" or python_version == \"3.3\"->ipython<6.0.0,>=5.1.0->ipdb->-r /content/hmr/requirements.txt (line 11)) (1.10.0)\n",
            "Requirement already satisfied: ptyprocess>=0.5 in /usr/local/lib/python2.7/dist-packages (from pexpect; sys_platform != \"win32\"->ipython<6.0.0,>=5.1.0->ipdb->-r /content/hmr/requirements.txt (line 11)) (0.6.0)\n",
            "Requirement already satisfied: ipython-genutils in /usr/local/lib/python2.7/dist-packages (from traitlets>=4.2->ipython<6.0.0,>=5.1.0->ipdb->-r /content/hmr/requirements.txt (line 11)) (0.2.0)\n",
            "Requirement already satisfied: wcwidth in /usr/local/lib/python2.7/dist-packages (from prompt-toolkit<2.0.0,>=1.0.4->ipython<6.0.0,>=5.1.0->ipdb->-r /content/hmr/requirements.txt (line 11)) (0.1.7)\n",
            "Building wheels for collected packages: ipdb\n",
            "  Building wheel for ipdb (setup.py) ... \u001b[?25l\u001b[?25hdone\n",
            "  Created wheel for ipdb: filename=ipdb-0.13.9-cp27-none-any.whl size=11619 sha256=f338f1a46e548e6e25ce599506ae54a3971c6677a32386aa8546e263ff80dac3\n",
            "  Stored in directory: /root/.cache/pip/wheels/fd/cd/67/bb18bf4caa63b6618f9ec64e8d1d8ba67edcf397cff328fbfb\n",
            "Successfully built ipdb\n",
            "Installing collected packages: deepdish, toml, ipdb\n",
            "Successfully installed deepdish-0.3.6 ipdb-0.13.9 toml-0.10.2\n"
          ],
          "name": "stdout"
        }
      ]
    },
    {
      "cell_type": "markdown",
      "metadata": {
        "id": "YezVzo16a615"
      },
      "source": [
        "# Demo\n"
      ]
    },
    {
      "cell_type": "markdown",
      "metadata": {
        "id": "iixwzsyXb0oW"
      },
      "source": [
        "### pretrained data\n"
      ]
    },
    {
      "cell_type": "code",
      "metadata": {
        "colab": {
          "base_uri": "https://localhost:8080/"
        },
        "id": "gAi514sHa4fX",
        "outputId": "0b5bb373-8d42-463e-8f6c-5f23a0c613e1"
      },
      "source": [
        "%cd /content/hmr\n",
        "!wget https://people.eecs.berkeley.edu/~kanazawa/cachedir/hmr/models.tar.gz && tar -xf models.tar.gz"
      ],
      "execution_count": 28,
      "outputs": [
        {
          "output_type": "stream",
          "text": [
            "/content/hmr\n",
            "--2021-07-13 10:34:56--  https://people.eecs.berkeley.edu/~kanazawa/cachedir/hmr/models.tar.gz\n",
            "Resolving people.eecs.berkeley.edu (people.eecs.berkeley.edu)... 128.32.244.190\n",
            "Connecting to people.eecs.berkeley.edu (people.eecs.berkeley.edu)|128.32.244.190|:443... connected.\n",
            "HTTP request sent, awaiting response... 200 OK\n",
            "Length: 385846404 (368M) [application/x-gzip]\n",
            "Saving to: ‘models.tar.gz’\n",
            "\n",
            "models.tar.gz       100%[===================>] 367.97M  5.44MB/s    in 2m 8s   \n",
            "\n",
            "2021-07-13 10:37:05 (2.88 MB/s) - ‘models.tar.gz’ saved [385846404/385846404]\n",
            "\n"
          ],
          "name": "stdout"
        }
      ]
    },
    {
      "cell_type": "markdown",
      "metadata": {
        "id": "rzt_gqxRb24_"
      },
      "source": [
        "### Run the demo"
      ]
    },
    {
      "cell_type": "code",
      "metadata": {
        "colab": {
          "base_uri": "https://localhost:8080/"
        },
        "id": "8NVK5abvb9X8",
        "outputId": "3eca1ef8-033c-460a-b545-39daf9ebd1c7"
      },
      "source": [
        "!python2 -m demo --img_path data/random.jpg --json_path data/random_keypoints.json"
      ],
      "execution_count": 35,
      "outputs": [
        {
          "output_type": "stream",
          "text": [
            "2021-07-13 10:43:18.138937: W tensorflow/core/platform/cpu_feature_guard.cc:45] The TensorFlow library wasn't compiled to use SSE4.1 instructions, but these are available on your machine and could speed up CPU computations.\n",
            "2021-07-13 10:43:18.138987: W tensorflow/core/platform/cpu_feature_guard.cc:45] The TensorFlow library wasn't compiled to use SSE4.2 instructions, but these are available on your machine and could speed up CPU computations.\n",
            "2021-07-13 10:43:18.139000: W tensorflow/core/platform/cpu_feature_guard.cc:45] The TensorFlow library wasn't compiled to use AVX instructions, but these are available on your machine and could speed up CPU computations.\n",
            "2021-07-13 10:43:18.139010: W tensorflow/core/platform/cpu_feature_guard.cc:45] The TensorFlow library wasn't compiled to use AVX2 instructions, but these are available on your machine and could speed up CPU computations.\n",
            "2021-07-13 10:43:18.139019: W tensorflow/core/platform/cpu_feature_guard.cc:45] The TensorFlow library wasn't compiled to use FMA instructions, but these are available on your machine and could speed up CPU computations.\n",
            "Iteration 0\n",
            "Iteration 1\n",
            "Reuse is on!\n",
            "Iteration 2\n",
            "Reuse is on!\n",
            "Restoring checkpoint /content/hmr/src/../models/model.ckpt-667589..\n",
            "src/util/renderer.py:313: FutureWarning: Conversion of the second argument of issubdtype from `float` to `np.floating` is deprecated. In future, it will be treated as `np.float64 == np.dtype(float).type`.\n",
            "  if np.issubdtype(image.dtype, np.float):\n",
            "<Figure size 640x480 with 6 Axes>\n"
          ],
          "name": "stdout"
        }
      ]
    }
  ]
}