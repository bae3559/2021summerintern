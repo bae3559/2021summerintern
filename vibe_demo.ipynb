{
  "nbformat": 4,
  "nbformat_minor": 0,
  "metadata": {
    "colab": {
      "name": "vibe_demo.ipynb",
      "provenance": [],
      "collapsed_sections": [],
      "include_colab_link": true
    },
    "kernelspec": {
      "name": "python3",
      "display_name": "Python 3"
    },
    "accelerator": "GPU"
  },
  "cells": [
    {
      "cell_type": "markdown",
      "metadata": {
        "id": "view-in-github",
        "colab_type": "text"
      },
      "source": [
        "<a href=\"https://colab.research.google.com/github/bae3559/2021summerintern/blob/main/vibe_demo.ipynb\" target=\"_parent\"><img src=\"https://colab.research.google.com/assets/colab-badge.svg\" alt=\"Open In Colab\"/></a>"
      ]
    },
    {
      "cell_type": "markdown",
      "metadata": {
        "id": "9QmY4dDYpmfB"
      },
      "source": [
        "# VIBE: Video Inference for Human Body Pose and Shape Estimation\n",
        "\n",
        "Demo of the original PyTorch based implementation provided here: https://github.com/mkocabas/VIBE\n",
        "\n",
        "## Note\n",
        "Before running this notebook make sure that your runtime type is 'Python 3 with GPU acceleration'. Go to Edit > Notebook settings > Hardware Accelerator > Select \"GPU\".\n",
        "\n",
        "## More Info\n",
        "- Paper: https://arxiv.org/abs/1912.05656\n",
        "- Repo: https://github.com/mkocabas/VIBE"
      ]
    },
    {
      "cell_type": "code",
      "metadata": {
        "id": "Tvd4cfPk5a0e",
        "outputId": "b8ef1c56-48ba-478d-c48e-cb88ec14dcc8",
        "colab": {
          "base_uri": "https://localhost:8080/"
        }
      },
      "source": [
        "# Clone the repo\n",
        "!git clone https://github.com/mkocabas/VIBE.git"
      ],
      "execution_count": 1,
      "outputs": [
        {
          "output_type": "stream",
          "text": [
            "Cloning into 'VIBE'...\n",
            "remote: Enumerating objects: 397, done.\u001b[K\n",
            "remote: Counting objects: 100% (22/22), done.\u001b[K\n",
            "remote: Compressing objects: 100% (22/22), done.\u001b[K\n",
            "remote: Total 397 (delta 8), reused 4 (delta 0), pack-reused 375\u001b[K\n",
            "Receiving objects: 100% (397/397), 15.11 MiB | 3.98 MiB/s, done.\n",
            "Resolving deltas: 100% (179/179), done.\n"
          ],
          "name": "stdout"
        }
      ]
    },
    {
      "cell_type": "code",
      "metadata": {
        "id": "Sui0UeZR5vCy",
        "outputId": "15ea7c77-bf31-4398-d277-d600f3f7a15a",
        "colab": {
          "base_uri": "https://localhost:8080/"
        }
      },
      "source": [
        "%cd VIBE/"
      ],
      "execution_count": 12,
      "outputs": [
        {
          "output_type": "stream",
          "text": [
            "[Errno 2] No such file or directory: 'VIBE/'\n",
            "/content/VIBE\n"
          ],
          "name": "stdout"
        }
      ]
    },
    {
      "cell_type": "code",
      "metadata": {
        "id": "Rs6UTvVO6Fxf",
        "outputId": "cd4c4b12-6ad9-48bc-8911-54e43a09c43b",
        "colab": {
          "base_uri": "https://localhost:8080/"
        }
      },
      "source": [
        "# Install the other requirements\n",
        "!pip install torch==1.4.0 numpy==1.17.5\n",
        "!pip install git+https://github.com/giacaglia/pytube.git --upgrade\n",
        "!pip install -r requirements.txt"
      ],
      "execution_count": 3,
      "outputs": [
        {
          "output_type": "stream",
          "text": [
            "Requirement already satisfied: torch==1.4.0 in /usr/local/lib/python3.7/dist-packages (1.4.0)\n",
            "Requirement already satisfied: numpy==1.17.5 in /usr/local/lib/python3.7/dist-packages (1.17.5)\n",
            "Collecting git+https://github.com/giacaglia/pytube.git\n",
            "  Cloning https://github.com/giacaglia/pytube.git to /tmp/pip-req-build-6tzns8ab\n",
            "  Running command git clone -q https://github.com/giacaglia/pytube.git /tmp/pip-req-build-6tzns8ab\n",
            "Building wheels for collected packages: pytube\n",
            "  Building wheel for pytube (setup.py) ... \u001b[?25l\u001b[?25hdone\n",
            "  Created wheel for pytube: filename=pytube-9.5.3-cp37-none-any.whl size=32290 sha256=8d2f3ba00d1a038ecb501dfab6f1131ac161555252b2b884d47eebdc4a58d6f2\n",
            "  Stored in directory: /tmp/pip-ephem-wheel-cache-4uqrx_s6/wheels/49/5a/fe/342957c87dc4c1e1a244fbeffcdbf8a0f2c8db0277823f3bfd\n",
            "Successfully built pytube\n",
            "Installing collected packages: pytube\n",
            "  Found existing installation: pytube 9.5.3\n",
            "    Uninstalling pytube-9.5.3:\n",
            "      Successfully uninstalled pytube-9.5.3\n",
            "Successfully installed pytube-9.5.3\n",
            "Collecting git+https://github.com/mattloper/chumpy.git (from -r requirements.txt (line 24))\n",
            "  Cloning https://github.com/mattloper/chumpy.git to /tmp/pip-req-build-ws44i2va\n",
            "  Running command git clone -q https://github.com/mattloper/chumpy.git /tmp/pip-req-build-ws44i2va\n",
            "Requirement already satisfied (use --upgrade to upgrade): chumpy==0.70 from git+https://github.com/mattloper/chumpy.git in /usr/local/lib/python3.7/dist-packages (from -r requirements.txt (line 24))\n",
            "Collecting git+https://github.com/mkocabas/yolov3-pytorch.git (from -r requirements.txt (line 25))\n",
            "  Cloning https://github.com/mkocabas/yolov3-pytorch.git to /tmp/pip-req-build-srdegpz9\n",
            "  Running command git clone -q https://github.com/mkocabas/yolov3-pytorch.git /tmp/pip-req-build-srdegpz9\n",
            "Requirement already satisfied (use --upgrade to upgrade): yolov3==0.1 from git+https://github.com/mkocabas/yolov3-pytorch.git in /usr/local/lib/python3.7/dist-packages (from -r requirements.txt (line 25))\n",
            "Collecting git+https://github.com/mkocabas/multi-person-tracker.git (from -r requirements.txt (line 26))\n",
            "  Cloning https://github.com/mkocabas/multi-person-tracker.git to /tmp/pip-req-build-m24enlse\n",
            "  Running command git clone -q https://github.com/mkocabas/multi-person-tracker.git /tmp/pip-req-build-m24enlse\n",
            "Requirement already satisfied (use --upgrade to upgrade): multi-person-tracker==0.1 from git+https://github.com/mkocabas/multi-person-tracker.git in /usr/local/lib/python3.7/dist-packages (from -r requirements.txt (line 26))\n",
            "Requirement already satisfied: tqdm==4.28.1 in /usr/local/lib/python3.7/dist-packages (from -r requirements.txt (line 1)) (4.28.1)\n",
            "Requirement already satisfied: yacs==0.1.6 in /usr/local/lib/python3.7/dist-packages (from -r requirements.txt (line 2)) (0.1.6)\n",
            "Requirement already satisfied: h5py==2.10.0 in /usr/local/lib/python3.7/dist-packages (from -r requirements.txt (line 3)) (2.10.0)\n",
            "Requirement already satisfied: numpy==1.17.5 in /usr/local/lib/python3.7/dist-packages (from -r requirements.txt (line 4)) (1.17.5)\n",
            "Requirement already satisfied: scipy==1.4.1 in /usr/local/lib/python3.7/dist-packages (from -r requirements.txt (line 5)) (1.4.1)\n",
            "Requirement already satisfied: numba==0.47.0 in /usr/local/lib/python3.7/dist-packages (from -r requirements.txt (line 6)) (0.47.0)\n",
            "Requirement already satisfied: smplx==0.1.26 in /usr/local/lib/python3.7/dist-packages (from -r requirements.txt (line 7)) (0.1.26)\n",
            "Requirement already satisfied: gdown==3.6.4 in /usr/local/lib/python3.7/dist-packages (from -r requirements.txt (line 8)) (3.6.4)\n",
            "Requirement already satisfied: PyYAML==5.3.1 in /usr/local/lib/python3.7/dist-packages (from -r requirements.txt (line 9)) (5.3.1)\n",
            "Requirement already satisfied: joblib==0.14.1 in /usr/local/lib/python3.7/dist-packages (from -r requirements.txt (line 10)) (0.14.1)\n",
            "Requirement already satisfied: pillow==7.1.0 in /usr/local/lib/python3.7/dist-packages (from -r requirements.txt (line 11)) (7.1.0)\n",
            "Requirement already satisfied: trimesh==3.5.25 in /usr/local/lib/python3.7/dist-packages (from -r requirements.txt (line 12)) (3.5.25)\n",
            "Requirement already satisfied: pyrender==0.1.36 in /usr/local/lib/python3.7/dist-packages (from -r requirements.txt (line 13)) (0.1.36)\n",
            "Requirement already satisfied: progress==1.5 in /usr/local/lib/python3.7/dist-packages (from -r requirements.txt (line 14)) (1.5)\n",
            "Requirement already satisfied: filterpy==1.4.5 in /usr/local/lib/python3.7/dist-packages (from -r requirements.txt (line 15)) (1.4.5)\n",
            "Requirement already satisfied: matplotlib==3.1.3 in /usr/local/lib/python3.7/dist-packages (from -r requirements.txt (line 16)) (3.1.3)\n",
            "Requirement already satisfied: tensorflow==1.15.4 in /usr/local/lib/python3.7/dist-packages (from -r requirements.txt (line 17)) (1.15.4)\n",
            "Requirement already satisfied: tensorboard==2.1.0 in /usr/local/lib/python3.7/dist-packages (from -r requirements.txt (line 18)) (2.1.0)\n",
            "Requirement already satisfied: torchvision==0.5.0 in /usr/local/lib/python3.7/dist-packages (from -r requirements.txt (line 19)) (0.5.0)\n",
            "Requirement already satisfied: scikit-image==0.16.2 in /usr/local/lib/python3.7/dist-packages (from -r requirements.txt (line 20)) (0.16.2)\n",
            "Requirement already satisfied: scikit-video==1.1.11 in /usr/local/lib/python3.7/dist-packages (from -r requirements.txt (line 21)) (1.1.11)\n",
            "Requirement already satisfied: opencv-python==4.1.2.30 in /usr/local/lib/python3.7/dist-packages (from -r requirements.txt (line 22)) (4.1.2.30)\n",
            "Requirement already satisfied: llvmlite==0.32.1 in /usr/local/lib/python3.7/dist-packages (from -r requirements.txt (line 23)) (0.32.1)\n",
            "Requirement already satisfied: six>=1.11.0 in /usr/local/lib/python3.7/dist-packages (from chumpy==0.70->-r requirements.txt (line 24)) (1.15.0)\n",
            "Requirement already satisfied: setuptools in /usr/local/lib/python3.7/dist-packages (from numba==0.47.0->-r requirements.txt (line 6)) (57.0.0)\n",
            "Requirement already satisfied: torch>=1.0.1.post2 in /usr/local/lib/python3.7/dist-packages (from smplx==0.1.26->-r requirements.txt (line 7)) (1.4.0)\n",
            "Requirement already satisfied: torchgeometry>=0.1.2 in /usr/local/lib/python3.7/dist-packages (from smplx==0.1.26->-r requirements.txt (line 7)) (0.1.2)\n",
            "Requirement already satisfied: requests in /usr/local/lib/python3.7/dist-packages (from gdown==3.6.4->-r requirements.txt (line 8)) (2.23.0)\n",
            "Requirement already satisfied: freetype-py in /usr/local/lib/python3.7/dist-packages (from pyrender==0.1.36->-r requirements.txt (line 13)) (2.2.0)\n",
            "Requirement already satisfied: pyglet>=1.4.10 in /usr/local/lib/python3.7/dist-packages (from pyrender==0.1.36->-r requirements.txt (line 13)) (1.5.0)\n",
            "Requirement already satisfied: networkx in /usr/local/lib/python3.7/dist-packages (from pyrender==0.1.36->-r requirements.txt (line 13)) (2.5.1)\n",
            "Requirement already satisfied: imageio in /usr/local/lib/python3.7/dist-packages (from pyrender==0.1.36->-r requirements.txt (line 13)) (2.4.1)\n",
            "Requirement already satisfied: PyOpenGL==3.1.0 in /usr/local/lib/python3.7/dist-packages (from pyrender==0.1.36->-r requirements.txt (line 13)) (3.1.0)\n",
            "Requirement already satisfied: cycler>=0.10 in /usr/local/lib/python3.7/dist-packages (from matplotlib==3.1.3->-r requirements.txt (line 16)) (0.10.0)\n",
            "Requirement already satisfied: kiwisolver>=1.0.1 in /usr/local/lib/python3.7/dist-packages (from matplotlib==3.1.3->-r requirements.txt (line 16)) (1.3.1)\n",
            "Requirement already satisfied: python-dateutil>=2.1 in /usr/local/lib/python3.7/dist-packages (from matplotlib==3.1.3->-r requirements.txt (line 16)) (2.8.1)\n",
            "Requirement already satisfied: pyparsing!=2.0.4,!=2.1.2,!=2.1.6,>=2.0.1 in /usr/local/lib/python3.7/dist-packages (from matplotlib==3.1.3->-r requirements.txt (line 16)) (2.4.7)\n",
            "Requirement already satisfied: gast==0.2.2 in /usr/local/lib/python3.7/dist-packages (from tensorflow==1.15.4->-r requirements.txt (line 17)) (0.2.2)\n",
            "Requirement already satisfied: wrapt>=1.11.1 in /usr/local/lib/python3.7/dist-packages (from tensorflow==1.15.4->-r requirements.txt (line 17)) (1.12.1)\n",
            "Requirement already satisfied: tensorflow-estimator==1.15.1 in /usr/local/lib/python3.7/dist-packages (from tensorflow==1.15.4->-r requirements.txt (line 17)) (1.15.1)\n",
            "Requirement already satisfied: protobuf>=3.6.1 in /usr/local/lib/python3.7/dist-packages (from tensorflow==1.15.4->-r requirements.txt (line 17)) (3.17.3)\n",
            "Requirement already satisfied: grpcio>=1.8.6 in /usr/local/lib/python3.7/dist-packages (from tensorflow==1.15.4->-r requirements.txt (line 17)) (1.34.1)\n",
            "Requirement already satisfied: keras-applications>=1.0.8 in /usr/local/lib/python3.7/dist-packages (from tensorflow==1.15.4->-r requirements.txt (line 17)) (1.0.8)\n",
            "Requirement already satisfied: opt-einsum>=2.3.2 in /usr/local/lib/python3.7/dist-packages (from tensorflow==1.15.4->-r requirements.txt (line 17)) (3.3.0)\n",
            "Requirement already satisfied: keras-preprocessing>=1.0.5 in /usr/local/lib/python3.7/dist-packages (from tensorflow==1.15.4->-r requirements.txt (line 17)) (1.1.2)\n",
            "Requirement already satisfied: wheel>=0.26; python_version >= \"3\" in /usr/local/lib/python3.7/dist-packages (from tensorflow==1.15.4->-r requirements.txt (line 17)) (0.36.2)\n",
            "Requirement already satisfied: google-pasta>=0.1.6 in /usr/local/lib/python3.7/dist-packages (from tensorflow==1.15.4->-r requirements.txt (line 17)) (0.2.0)\n",
            "Requirement already satisfied: absl-py>=0.7.0 in /usr/local/lib/python3.7/dist-packages (from tensorflow==1.15.4->-r requirements.txt (line 17)) (0.12.0)\n",
            "Requirement already satisfied: astor>=0.6.0 in /usr/local/lib/python3.7/dist-packages (from tensorflow==1.15.4->-r requirements.txt (line 17)) (0.8.1)\n",
            "Requirement already satisfied: termcolor>=1.1.0 in /usr/local/lib/python3.7/dist-packages (from tensorflow==1.15.4->-r requirements.txt (line 17)) (1.1.0)\n",
            "Requirement already satisfied: markdown>=2.6.8 in /usr/local/lib/python3.7/dist-packages (from tensorboard==2.1.0->-r requirements.txt (line 18)) (3.3.4)\n",
            "Requirement already satisfied: google-auth<2,>=1.6.3 in /usr/local/lib/python3.7/dist-packages (from tensorboard==2.1.0->-r requirements.txt (line 18)) (1.32.1)\n",
            "Requirement already satisfied: google-auth-oauthlib<0.5,>=0.4.1 in /usr/local/lib/python3.7/dist-packages (from tensorboard==2.1.0->-r requirements.txt (line 18)) (0.4.4)\n",
            "Requirement already satisfied: werkzeug>=0.11.15 in /usr/local/lib/python3.7/dist-packages (from tensorboard==2.1.0->-r requirements.txt (line 18)) (1.0.1)\n",
            "Requirement already satisfied: PyWavelets>=0.4.0 in /usr/local/lib/python3.7/dist-packages (from scikit-image==0.16.2->-r requirements.txt (line 20)) (1.1.1)\n",
            "Requirement already satisfied: urllib3!=1.25.0,!=1.25.1,<1.26,>=1.21.1 in /usr/local/lib/python3.7/dist-packages (from requests->gdown==3.6.4->-r requirements.txt (line 8)) (1.24.3)\n",
            "Requirement already satisfied: certifi>=2017.4.17 in /usr/local/lib/python3.7/dist-packages (from requests->gdown==3.6.4->-r requirements.txt (line 8)) (2021.5.30)\n",
            "Requirement already satisfied: chardet<4,>=3.0.2 in /usr/local/lib/python3.7/dist-packages (from requests->gdown==3.6.4->-r requirements.txt (line 8)) (3.0.4)\n",
            "Requirement already satisfied: idna<3,>=2.5 in /usr/local/lib/python3.7/dist-packages (from requests->gdown==3.6.4->-r requirements.txt (line 8)) (2.10)\n",
            "Requirement already satisfied: future in /usr/local/lib/python3.7/dist-packages (from pyglet>=1.4.10->pyrender==0.1.36->-r requirements.txt (line 13)) (0.16.0)\n",
            "Requirement already satisfied: decorator<5,>=4.3 in /usr/local/lib/python3.7/dist-packages (from networkx->pyrender==0.1.36->-r requirements.txt (line 13)) (4.4.2)\n",
            "Requirement already satisfied: importlib-metadata; python_version < \"3.8\" in /usr/local/lib/python3.7/dist-packages (from markdown>=2.6.8->tensorboard==2.1.0->-r requirements.txt (line 18)) (4.6.0)\n",
            "Requirement already satisfied: cachetools<5.0,>=2.0.0 in /usr/local/lib/python3.7/dist-packages (from google-auth<2,>=1.6.3->tensorboard==2.1.0->-r requirements.txt (line 18)) (4.2.2)\n",
            "Requirement already satisfied: pyasn1-modules>=0.2.1 in /usr/local/lib/python3.7/dist-packages (from google-auth<2,>=1.6.3->tensorboard==2.1.0->-r requirements.txt (line 18)) (0.2.8)\n",
            "Requirement already satisfied: rsa<5,>=3.1.4; python_version >= \"3.6\" in /usr/local/lib/python3.7/dist-packages (from google-auth<2,>=1.6.3->tensorboard==2.1.0->-r requirements.txt (line 18)) (4.7.2)\n",
            "Requirement already satisfied: requests-oauthlib>=0.7.0 in /usr/local/lib/python3.7/dist-packages (from google-auth-oauthlib<0.5,>=0.4.1->tensorboard==2.1.0->-r requirements.txt (line 18)) (1.3.0)\n",
            "Requirement already satisfied: typing-extensions>=3.6.4; python_version < \"3.8\" in /usr/local/lib/python3.7/dist-packages (from importlib-metadata; python_version < \"3.8\"->markdown>=2.6.8->tensorboard==2.1.0->-r requirements.txt (line 18)) (3.7.4.3)\n",
            "Requirement already satisfied: zipp>=0.5 in /usr/local/lib/python3.7/dist-packages (from importlib-metadata; python_version < \"3.8\"->markdown>=2.6.8->tensorboard==2.1.0->-r requirements.txt (line 18)) (3.4.1)\n",
            "Requirement already satisfied: pyasn1<0.5.0,>=0.4.6 in /usr/local/lib/python3.7/dist-packages (from pyasn1-modules>=0.2.1->google-auth<2,>=1.6.3->tensorboard==2.1.0->-r requirements.txt (line 18)) (0.4.8)\n",
            "Requirement already satisfied: oauthlib>=3.0.0 in /usr/local/lib/python3.7/dist-packages (from requests-oauthlib>=0.7.0->google-auth-oauthlib<0.5,>=0.4.1->tensorboard==2.1.0->-r requirements.txt (line 18)) (3.1.1)\n",
            "Building wheels for collected packages: chumpy, yolov3, multi-person-tracker\n",
            "  Building wheel for chumpy (setup.py) ... \u001b[?25l\u001b[?25hdone\n",
            "  Created wheel for chumpy: filename=chumpy-0.70-cp37-none-any.whl size=60923 sha256=63263e1f51cd786ca55418cd12994e5b51e6352b5b2348dc6a42ad2955cd21f3\n",
            "  Stored in directory: /tmp/pip-ephem-wheel-cache-a7q58hp9/wheels/ed/d0/74/8aeda0556643bb15fb13da4e031831bbfdcf716da2507999a6\n",
            "  Building wheel for yolov3 (setup.py) ... \u001b[?25l\u001b[?25hdone\n",
            "  Created wheel for yolov3: filename=yolov3-0.1-cp37-none-any.whl size=25828 sha256=1c1d23a766e9c8267da301588abe12e3f74f51ee89473ef70df6e6e655e2ba9d\n",
            "  Stored in directory: /tmp/pip-ephem-wheel-cache-a7q58hp9/wheels/52/cd/dc/1aa668555b599d1f997f7b802fded738ce7259c36c82d3497e\n",
            "  Building wheel for multi-person-tracker (setup.py) ... \u001b[?25l\u001b[?25hdone\n",
            "  Created wheel for multi-person-tracker: filename=multi_person_tracker-0.1-cp37-none-any.whl size=8893 sha256=b9b5e60d1e86f708b55604898e71b60b282550b7c153d562a5396389f0171eb8\n",
            "  Stored in directory: /tmp/pip-ephem-wheel-cache-a7q58hp9/wheels/05/7c/60/cc4b54c579c6e3e98da59223faedcc10ea1f1abe1bffcf3189\n",
            "Successfully built chumpy yolov3 multi-person-tracker\n"
          ],
          "name": "stdout"
        }
      ]
    },
    {
      "cell_type": "code",
      "metadata": {
        "id": "brZt0q3Y6X5W",
        "outputId": "d7798597-e212-4566-a39b-0dafbecba58c",
        "colab": {
          "base_uri": "https://localhost:8080/"
        }
      },
      "source": [
        "# Download pretrained weights and SMPL data\n",
        "!source /content/VIBE/scripts/prepare_data.sh"
      ],
      "execution_count": 4,
      "outputs": [
        {
          "output_type": "stream",
          "text": [
            "Downloading...\n",
            "From: https://drive.google.com/uc?id=1untXhYOLQtpNEy4GTY_0fL_H-k6cTf_r\n",
            "To: /content/VIBE/data/vibe_data.zip\n",
            "561MB [00:06, 91.3MB/s]\n",
            "Archive:  vibe_data.zip\n",
            "   creating: vibe_data/\n",
            "  inflating: vibe_data/smpl_mean_params.npz  \n",
            "  inflating: vibe_data/vibe_model_w_3dpw.pth.tar  \n",
            "  inflating: vibe_data/gmm_08.pkl    \n",
            "  inflating: vibe_data/J_regressor_h36m.npy  \n",
            "  inflating: vibe_data/vibe_model_wo_3dpw.pth.tar  \n",
            "  inflating: vibe_data/SMPL_NEUTRAL.pkl  \n",
            "  inflating: vibe_data/J_regressor_extra.npy  \n",
            "  inflating: vibe_data/spin_model_checkpoint.pth.tar  \n",
            "  inflating: vibe_data/sample_video.mp4  \n",
            "  inflating: vibe_data/yolov3.weights  \n"
          ],
          "name": "stdout"
        }
      ]
    },
    {
      "cell_type": "markdown",
      "metadata": {
        "id": "J7A7eakXIn9A"
      },
      "source": [
        "### Run the demo code.\n",
        "\n",
        "Check https://github.com/mkocabas/VIBE/blob/master/doc/demo.md for more details about demo.\n",
        "\n",
        "**Note:** Final rendering is slow compared to inference. We use pyrender with GPU accelaration and it takes 2-3 FPS per image. Please let us know if you know any faster alternative. "
      ]
    },
    {
      "cell_type": "code",
      "metadata": {
        "id": "qVNszfLQ7rC9",
        "outputId": "1f8f3cf3-26fd-4baa-ee0c-1a32afd36d21",
        "colab": {
          "base_uri": "https://localhost:8080/"
        }
      },
      "source": [
        "# Run the demo\n",
        "!python demo.py --vid_file dance.mp4 --output_folder output/ --sideview\n",
        "\n",
        "# You may use --sideview flag to enable from a different viewpoint, note that this doubles rendering time.\n",
        "# !python demo.py --vid_file sample_video.mp4 --output_folder output/ --sideview\n",
        "\n",
        "# You may also run VIBE on a YouTube video by providing a link\n",
        "# python demo.py --vid_file https://www.youtube.com/watch?v=c4DAnQ6DtF8 --output_folder output/ --display"
      ],
      "execution_count": 7,
      "outputs": [
        {
          "output_type": "stream",
          "text": [
            "Running \"ffmpeg -i dance.mp4 -f image2 -v error /tmp/dance_mp4/%06d.png\"\n",
            "Images saved to \"/tmp/dance_mp4\"\n",
            "Input video number of frames 6286\n",
            "Running Multi-Person-Tracker\n",
            "100% 524/524 [04:34<00:00,  2.10it/s]\n",
            "Finished. Detection + Tracking FPS 22.86\n",
            "WARNING: You are using a SMPL model, with only 10 shape coefficients.\n",
            "WARNING: You are using a SMPL model, with only 10 shape coefficients.\n",
            "=> loaded pretrained model from 'data/vibe_data/spin_model_checkpoint.pth.tar'\n",
            "Performance of pretrained model on 3DPW: 56.56075477600098\n",
            "Loaded pretrained weights from \"data/vibe_data/vibe_model_wo_3dpw.pth.tar\"\n",
            "Running VIBE on each tracklet...\n",
            "100% 5/5 [01:41<00:00, 21.44s/it]\n",
            "VIBE FPS: 61.79\n",
            "Total time spent: 399.98 seconds (including model loading time).\n",
            "Total FPS (including model loading time): 15.72.\n",
            "Saving output results to \"output/dance/vibe_output.pkl\".\n",
            "WARNING: You are using a SMPL model, with only 10 shape coefficients.\n",
            "Rendering output video, writing frames to /tmp/dance_mp4_output\n",
            "100% 6286/6286 [25:59<00:00,  4.18it/s]\n",
            "Saving result video to output/dance/dance_vibe_result.mp4\n",
            "Running \"ffmpeg -y -threads 16 -i /tmp/dance_mp4_output/%06d.png -profile:v baseline -level 3.0 -c:v libx264 -pix_fmt yuv420p -an -v error output/dance/dance_vibe_result.mp4\"\n",
            "================= END =================\n"
          ],
          "name": "stdout"
        }
      ]
    },
    {
      "cell_type": "code",
      "metadata": {
        "id": "j8zxBa_K-FJf"
      },
      "source": [
        "# Play the generated video\n",
        "from IPython.display import HTML\n",
        "from base64 import b64encode\n",
        "\n",
        "def video(path):\n",
        "  mp4 = open(path,'rb').read()\n",
        "  data_url = \"data:video/mp4;base64,\" + b64encode(mp4).decode()\n",
        "  return HTML('<video width=500 controls loop> <source src=\"%s\" type=\"video/mp4\"></video>' % data_url)\n",
        "\n",
        "video('output/dance/dance_vibe_result.mp4')"
      ],
      "execution_count": 15,
      "outputs": []
    },
    {
      "cell_type": "code",
      "metadata": {
        "id": "FGcw0HzhtPxj"
      },
      "source": [
        "# Inspect the output file content\n",
        "import joblib\n",
        "output = joblib.load('output/sample_video/vibe_output.pkl')\n",
        "print('Track ids:', output.keys(), end='\\n\\n')\n",
        "\n",
        "print('VIBE output file content:', end='\\n\\n')\n",
        "for k,v in output[1].items():\n",
        "  if k != 'joints2d': \n",
        "    print(k, v.shape)"
      ],
      "execution_count": null,
      "outputs": []
    },
    {
      "cell_type": "markdown",
      "metadata": {
        "id": "5cLiCt2gIEVt"
      },
      "source": [
        "###SPIN"
      ]
    },
    {
      "cell_type": "code",
      "metadata": {
        "id": "RQkcpZTRIDi3",
        "outputId": "e46391fa-fb61-4ef0-dd8f-2be9c908a7c3",
        "colab": {
          "base_uri": "https://localhost:8080/"
        }
      },
      "source": [
        "%cd /content/\n",
        "!unzip --q SPIN-master.zip\n"
      ],
      "execution_count": 16,
      "outputs": [
        {
          "output_type": "stream",
          "text": [
            "/content\n",
            "Archive:  SPIN-master.zip\n",
            "5c796852ca7ca7373e104e8489aa5864323fbf84\n",
            "   creating: SPIN-master/\n",
            "  inflating: SPIN-master/.gitignore  \n",
            "  inflating: SPIN-master/LICENSE     \n",
            "  inflating: SPIN-master/README.md   \n",
            "  inflating: SPIN-master/config.py   \n",
            "  inflating: SPIN-master/constants.py  \n",
            "   creating: SPIN-master/data/\n",
            "  inflating: SPIN-master/data/README.md  \n",
            "   creating: SPIN-master/datasets/\n",
            "  inflating: SPIN-master/datasets/__init__.py  \n",
            "  inflating: SPIN-master/datasets/base_dataset.py  \n",
            "  inflating: SPIN-master/datasets/mixed_dataset.py  \n",
            "   creating: SPIN-master/datasets/preprocess/\n",
            "  inflating: SPIN-master/datasets/preprocess/README.md  \n",
            "  inflating: SPIN-master/datasets/preprocess/__init__.py  \n",
            "  inflating: SPIN-master/datasets/preprocess/coco.py  \n",
            "  inflating: SPIN-master/datasets/preprocess/h36m.py  \n",
            "  inflating: SPIN-master/datasets/preprocess/h36m_train.py  \n",
            "  inflating: SPIN-master/datasets/preprocess/hr_lspet.py  \n",
            "  inflating: SPIN-master/datasets/preprocess/lsp_dataset.py  \n",
            "  inflating: SPIN-master/datasets/preprocess/lsp_dataset_original.py  \n",
            "  inflating: SPIN-master/datasets/preprocess/mpi_inf_3dhp.py  \n",
            "  inflating: SPIN-master/datasets/preprocess/mpii.py  \n",
            "  inflating: SPIN-master/datasets/preprocess/pw3d.py  \n",
            "  inflating: SPIN-master/datasets/preprocess/read_openpose.py  \n",
            "  inflating: SPIN-master/demo.py     \n",
            "  inflating: SPIN-master/eval.py     \n",
            "   creating: SPIN-master/examples/\n",
            "  inflating: SPIN-master/examples/im1010.jpg  \n",
            "  inflating: SPIN-master/examples/im1010_bbox.json  \n",
            "  inflating: SPIN-master/examples/im1010_openpose.json  \n",
            "  inflating: SPIN-master/fetch_data.sh  \n",
            "   creating: SPIN-master/models/\n",
            "  inflating: SPIN-master/models/__init__.py  \n",
            "  inflating: SPIN-master/models/hmr.py  \n",
            "  inflating: SPIN-master/models/smpl.py  \n",
            "  inflating: SPIN-master/notebook.ipynb  \n",
            "  inflating: SPIN-master/preprocess_datasets.py  \n",
            "  inflating: SPIN-master/requirements.txt  \n",
            "   creating: SPIN-master/smplify/\n",
            " extracting: SPIN-master/smplify/__init__.py  \n",
            "  inflating: SPIN-master/smplify/losses.py  \n",
            "  inflating: SPIN-master/smplify/smplify.py  \n",
            "  inflating: SPIN-master/teaser.png  \n",
            "  inflating: SPIN-master/train.py    \n",
            "   creating: SPIN-master/train/\n",
            "  inflating: SPIN-master/train/__init__.py  \n",
            "  inflating: SPIN-master/train/fits_dict.py  \n",
            "  inflating: SPIN-master/train/trainer.py  \n",
            "   creating: SPIN-master/utils/\n",
            "  inflating: SPIN-master/utils/__init__.py  \n",
            "  inflating: SPIN-master/utils/base_trainer.py  \n",
            "  inflating: SPIN-master/utils/data_loader.py  \n",
            "  inflating: SPIN-master/utils/geometry.py  \n",
            "  inflating: SPIN-master/utils/imutils.py  \n",
            "  inflating: SPIN-master/utils/part_utils.py  \n",
            "  inflating: SPIN-master/utils/pose_utils.py  \n",
            "  inflating: SPIN-master/utils/renderer.py  \n",
            "  inflating: SPIN-master/utils/saver.py  \n",
            "  inflating: SPIN-master/utils/train_options.py  \n"
          ],
          "name": "stdout"
        }
      ]
    },
    {
      "cell_type": "code",
      "metadata": {
        "id": "dwWV3NDuIZZn",
        "outputId": "1c97c64b-5c50-4dd4-a006-8cdde46c7be8",
        "colab": {
          "base_uri": "https://localhost:8080/"
        }
      },
      "source": [
        "%cd /content/SPIN-master\n",
        "\n",
        "import os\n",
        "os.environ[\"PYOPENGL_PLATFORM\"] = \"egl\"\n",
        "\n",
        "!python3 demo.py --checkpoint=data/model_checkpoint.pt --img=examples/im1010.jpg --openpose=examples/im1010_openpose.json\n",
        "\n"
      ],
      "execution_count": 26,
      "outputs": [
        {
          "output_type": "stream",
          "text": [
            "/content/SPIN-master\n",
            "Traceback (most recent call last):\n",
            "  File \"/usr/local/lib/python3.7/dist-packages/OpenGL/platform/osmesa.py\", line 25, in GL\n",
            "    mode=ctypes.RTLD_GLOBAL \n",
            "  File \"/usr/local/lib/python3.7/dist-packages/OpenGL/platform/ctypesloader.py\", line 45, in loadLibrary\n",
            "    return dllType( name, mode )\n",
            "  File \"/usr/lib/python3.7/ctypes/__init__.py\", line 364, in __init__\n",
            "    self._handle = _dlopen(self._name, mode)\n",
            "OSError: ('OSMesa: cannot open shared object file: No such file or directory', 'OSMesa', None)\n",
            "\n",
            "During handling of the above exception, another exception occurred:\n",
            "\n",
            "Traceback (most recent call last):\n",
            "  File \"demo.py\", line 36, in <module>\n",
            "    from utils.renderer import Renderer\n",
            "  File \"/content/SPIN-master/utils/renderer.py\", line 6, in <module>\n",
            "    import pyrender\n",
            "  File \"/usr/local/lib/python3.7/dist-packages/pyrender/__init__.py\", line 3, in <module>\n",
            "    from .light import Light, PointLight, DirectionalLight, SpotLight\n",
            "  File \"/usr/local/lib/python3.7/dist-packages/pyrender/light.py\", line 11, in <module>\n",
            "    from .texture import Texture\n",
            "  File \"/usr/local/lib/python3.7/dist-packages/pyrender/texture.py\", line 8, in <module>\n",
            "    from OpenGL.GL import *\n",
            "  File \"/usr/local/lib/python3.7/dist-packages/OpenGL/GL/__init__.py\", line 3, in <module>\n",
            "    from OpenGL import error as _error\n",
            "  File \"/usr/local/lib/python3.7/dist-packages/OpenGL/error.py\", line 12, in <module>\n",
            "    from OpenGL import platform, _configflags\n",
            "  File \"/usr/local/lib/python3.7/dist-packages/OpenGL/platform/__init__.py\", line 35, in <module>\n",
            "    _load()\n",
            "  File \"/usr/local/lib/python3.7/dist-packages/OpenGL/platform/__init__.py\", line 32, in _load\n",
            "    plugin.install(globals())\n",
            "  File \"/usr/local/lib/python3.7/dist-packages/OpenGL/platform/baseplatform.py\", line 92, in install\n",
            "    namespace[ name ] = getattr(self,name,None)\n",
            "  File \"/usr/local/lib/python3.7/dist-packages/OpenGL/platform/baseplatform.py\", line 14, in __get__\n",
            "    value = self.fget( obj )\n",
            "  File \"/usr/local/lib/python3.7/dist-packages/OpenGL/platform/osmesa.py\", line 66, in GetCurrentContext\n",
            "    function = self.OSMesa.OSMesaGetCurrentContext\n",
            "  File \"/usr/local/lib/python3.7/dist-packages/OpenGL/platform/baseplatform.py\", line 14, in __get__\n",
            "    value = self.fget( obj )\n",
            "  File \"/usr/local/lib/python3.7/dist-packages/OpenGL/platform/osmesa.py\", line 60, in OSMesa\n",
            "    def OSMesa( self ): return self.GL\n",
            "  File \"/usr/local/lib/python3.7/dist-packages/OpenGL/platform/baseplatform.py\", line 14, in __get__\n",
            "    value = self.fget( obj )\n",
            "  File \"/usr/local/lib/python3.7/dist-packages/OpenGL/platform/osmesa.py\", line 28, in GL\n",
            "    raise ImportError(\"Unable to load OpenGL library\", *err.args)\n",
            "ImportError: ('Unable to load OpenGL library', 'OSMesa: cannot open shared object file: No such file or directory', 'OSMesa', None)\n"
          ],
          "name": "stdout"
        }
      ]
    },
    {
      "cell_type": "code",
      "metadata": {
        "id": "6L1WFKvhImKO"
      },
      "source": [
        "from smplx.body_models import SMPLOutput\n",
        "\n"
      ],
      "execution_count": 22,
      "outputs": []
    }
  ]
}